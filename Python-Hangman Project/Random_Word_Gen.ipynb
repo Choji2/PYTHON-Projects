{
 "cells": [
  {
   "cell_type": "markdown",
   "id": "5ec1c090-4daa-47f1-90c3-2def88984c40",
   "metadata": {},
   "source": [
    "# Random Word Generator \n",
    ">This code is used for genreating a random word. \n"
   ]
  },
  {
   "cell_type": "markdown",
   "id": "b1758e17-e65d-4a13-86c0-8f249749b572",
   "metadata": {},
   "source": [
    "## Installing \n",
    "\n",
    ">The following comand will need to be ran in the terminal "
   ]
  },
  {
   "cell_type": "raw",
   "id": "f2c46990-dab1-4226-9271-7648e16d3529",
   "metadata": {},
   "source": [
    "pip install random-word"
   ]
  },
  {
   "cell_type": "markdown",
   "id": "c1dca2eb-a3f5-4f9c-b924-7a806a1a56c8",
   "metadata": {},
   "source": [
    ">Once the package is installed, you Will need to inport it into your project. "
   ]
  },
  {
   "cell_type": "code",
   "execution_count": 4,
   "id": "d8c101e3-0a75-4d82-bf87-951297bf75c7",
   "metadata": {},
   "outputs": [],
   "source": [
    "from random_word import RandomWords"
   ]
  },
  {
   "cell_type": "markdown",
   "id": "7f03a229-cfdd-4245-90e8-c00dc5346ef3",
   "metadata": {},
   "source": [
    "## Objects\n",
    "\n",
    ">You will need to create an RandomWords object to use its functions. "
   ]
  },
  {
   "cell_type": "code",
   "execution_count": 5,
   "id": "325d64d8-a0e2-4ab0-9010-739c22c9dc24",
   "metadata": {},
   "outputs": [],
   "source": [
    "_r = RandomWords()"
   ]
  },
  {
   "cell_type": "markdown",
   "id": "4ef4476f-c10b-45a8-b9c6-6b15e4505034",
   "metadata": {},
   "source": [
    "## Options\n",
    "#### Return a single random word\n",
    ">r.get_random_word()\n",
    "#### Return list of Random words\n",
    ">r.get_random_words()\n",
    "#### Return Word of the day\n",
    ">r.word_of_the_day()"
   ]
  },
  {
   "cell_type": "code",
   "execution_count": 6,
   "id": "edf9061d-ffc3-49f4-a2ad-6085fae90122",
   "metadata": {},
   "outputs": [],
   "source": [
    "def dateFormater():\n",
    "    from datetime import date\n",
    "    _today= str(date.today())\n",
    "    return _today\n",
    "_today= dateFormater()\n",
    "\n",
    "_wordStr=_r.word_of_the_day(date=_today)"
   ]
  },
  {
   "cell_type": "code",
   "execution_count": 25,
   "id": "407312e4-46ed-4534-b052-db50f3c0ebef",
   "metadata": {},
   "outputs": [
    {
     "data": {
      "text/plain": [
       "'{\"word\": \"recrudescent\", \"definations\": [{\"source\": \"century\", \"text\": \"Growing raw, sore, or painful again.\", \"note\": null, \"partOfSpeech\": \"adjective\"}, {\"source\": \"century\", \"text\": \"Coming into existence or renewed vigor again.\", \"note\": null, \"partOfSpeech\": \"adjective\"}]}'"
      ]
     },
     "execution_count": 25,
     "metadata": {},
     "output_type": "execute_result"
    }
   ],
   "source": [
    "_wordStr"
   ]
  },
  {
   "cell_type": "markdown",
   "id": "c8d1cacb-013d-46a0-90f4-7df9f480d0a3",
   "metadata": {},
   "source": [
    "### Or..."
   ]
  },
  {
   "cell_type": "code",
   "execution_count": 8,
   "id": "668f09cd-3614-49a5-a9e1-3060b7971f87",
   "metadata": {},
   "outputs": [],
   "source": [
    "_word=_r.get_random_word()"
   ]
  },
  {
   "cell_type": "code",
   "execution_count": 9,
   "id": "3793bf05-8513-4ae3-b17f-d0feaaf5c02c",
   "metadata": {},
   "outputs": [
    {
     "data": {
      "text/plain": [
       "'fluotantalate'"
      ]
     },
     "execution_count": 9,
     "metadata": {},
     "output_type": "execute_result"
    }
   ],
   "source": [
    "_word"
   ]
  },
  {
   "cell_type": "markdown",
   "id": "0fceb49e-4d1d-476c-bd44-04fb8e9cfda9",
   "metadata": {},
   "source": [
    "To generate list of random word we can use these optional parameters\n",
    "<ul>\n",
    "<li>hasDictionaryDef (string) - Only return words with dictionary definitions (optional) </li>   \n",
    "<li>includePartOfSpeech (string) - CSV part-of-speech values to include (optional) </li>\n",
    "<li>excludePartOfSpeech (string) - CSV part-of-speech values to exclude (optional) </li>  \n",
    "<li>minCorpusCount (integer) - Minimum corpus frequency for terms (optional) </li>  \n",
    "<li>maxCorpusCount (integer) - Maximum corpus frequency for terms (optional) </li>  \n",
    "<li>minDictionaryCount (integer) - Minimum dictionary count (optional) </li>  \n",
    "<li>maxDictionaryCount (integer) - Maximum dictionary count (optional) </li>  \n",
    "<li>minLength (integer) - Minimum word length (optional) </li>  \n",
    "<li>maxLength (integer) - Maximum word length (optional) </li>  \n",
    "<li>sortBy (string) - Attribute to sort by alpha or count (optional) </li>  \n",
    "<li>sortOrder (string) - Sort direction by asc or desc (optional) </li>  \n",
    "<li>limit (integer) - Maximum number of results to return (optional) </li>  \n",
    "</ul>"
   ]
  },
  {
   "cell_type": "code",
   "execution_count": 10,
   "id": "a15f4993-c62d-46a9-9cea-7c9ea50de322",
   "metadata": {},
   "outputs": [],
   "source": [
    "_word=_r.get_random_word(hasDictionaryDef=\"true\",minLength=5,maxLength=20)"
   ]
  },
  {
   "cell_type": "code",
   "execution_count": 11,
   "id": "7696d3ca-b04d-46ad-a38c-1d125d9bab34",
   "metadata": {},
   "outputs": [
    {
     "data": {
      "text/plain": [
       "'clothe'"
      ]
     },
     "execution_count": 11,
     "metadata": {},
     "output_type": "execute_result"
    }
   ],
   "source": [
    "_word"
   ]
  },
  {
   "cell_type": "markdown",
   "id": "b3067676-42aa-49dc-95ac-5b0cd1348c00",
   "metadata": {},
   "source": [
    "### Or.."
   ]
  },
  {
   "cell_type": "code",
   "execution_count": 30,
   "id": "5c6a5434-0fb1-4f12-8815-e62c7ddded22",
   "metadata": {},
   "outputs": [],
   "source": [
    "_words= _r.get_random_words()"
   ]
  },
  {
   "cell_type": "code",
   "execution_count": 31,
   "id": "71580972-694c-4919-8a3d-3e2b7975e19c",
   "metadata": {},
   "outputs": [
    {
     "data": {
      "text/plain": [
       "['off-Broadway',\n",
       " 'transgene',\n",
       " 'brimborion',\n",
       " 'uninstalled',\n",
       " 'Penang',\n",
       " 'cairngorm',\n",
       " 'softphone',\n",
       " 'overjoys',\n",
       " 'honey-mark',\n",
       " 'undirect',\n",
       " 'dumbo',\n",
       " 'igniting',\n",
       " 'rough-hew',\n",
       " 'timberman',\n",
       " 'bookmarks',\n",
       " 'hypernovae',\n",
       " 'solidness',\n",
       " 'toilette',\n",
       " 'revhead',\n",
       " 'torches',\n",
       " 'brunch',\n",
       " 'millijoule',\n",
       " 'Jocelyn',\n",
       " 'overclouds',\n",
       " 'inertialess',\n",
       " 'uncentury',\n",
       " 'designless',\n",
       " 'periblem',\n",
       " 'viewing',\n",
       " 'inter-agency',\n",
       " 'effeminates',\n",
       " 'subsea',\n",
       " 'defiling',\n",
       " 'drudgery',\n",
       " 'incision',\n",
       " 'unget',\n",
       " 'inaccurate',\n",
       " 'cybercreatures',\n",
       " 'schooners',\n",
       " 'twiggiest',\n",
       " 'gabbed',\n",
       " 'petrochemistry',\n",
       " 'manitou',\n",
       " 'omkar',\n",
       " 'trumeau',\n",
       " 'snottier',\n",
       " 'unbettered',\n",
       " 'supercharger',\n",
       " 'two-timer',\n",
       " 'enrobes']"
      ]
     },
     "execution_count": 31,
     "metadata": {},
     "output_type": "execute_result"
    }
   ],
   "source": [
    "_words"
   ]
  },
  {
   "cell_type": "markdown",
   "id": "5b91e84f-21eb-4b25-a6ec-c22a2c595a25",
   "metadata": {},
   "source": [
    "# Word of the Day JSON Conversion \n",
    ">You will have to turn the Word of the Day String into a JSON then break it down to use the data. "
   ]
  },
  {
   "cell_type": "code",
   "execution_count": 14,
   "id": "ce44efbb-2f10-4f76-b066-2aa7f42be7dd",
   "metadata": {},
   "outputs": [],
   "source": [
    "import json\n",
    "\n",
    "_today= dateFormater()\n",
    "_r = RandomWords()\n",
    "_wordStr=_r.word_of_the_day(date=_today)\n",
    "_dict=json.loads(_wordStr)\n"
   ]
  },
  {
   "cell_type": "code",
   "execution_count": 15,
   "id": "56f5dcdb-76b5-4092-b129-ec57ba4192b9",
   "metadata": {},
   "outputs": [
    {
     "data": {
      "text/plain": [
       "{'word': 'recrudescent',\n",
       " 'definations': [{'source': 'century',\n",
       "   'text': 'Growing raw, sore, or painful again.',\n",
       "   'note': None,\n",
       "   'partOfSpeech': 'adjective'},\n",
       "  {'source': 'century',\n",
       "   'text': 'Coming into existence or renewed vigor again.',\n",
       "   'note': None,\n",
       "   'partOfSpeech': 'adjective'}]}"
      ]
     },
     "execution_count": 15,
     "metadata": {},
     "output_type": "execute_result"
    }
   ],
   "source": [
    "_dict"
   ]
  },
  {
   "cell_type": "code",
   "execution_count": 16,
   "id": "858639da-e06e-458f-97b7-b7f95dc3416c",
   "metadata": {},
   "outputs": [],
   "source": [
    "_txtlst=_dict.get(\"definations\")\n",
    "\n",
    "if len(_txtlst)<2:\n",
    "    _txtdict=_txtlst[0]\n",
    "else:\n",
    "    _txtdict=_txtlst[1]"
   ]
  },
  {
   "cell_type": "code",
   "execution_count": 17,
   "id": "4bace1ce-a14c-4149-ad22-f25182774c57",
   "metadata": {},
   "outputs": [
    {
     "data": {
      "text/plain": [
       "{'source': 'century',\n",
       " 'text': 'Coming into existence or renewed vigor again.',\n",
       " 'note': None,\n",
       " 'partOfSpeech': 'adjective'}"
      ]
     },
     "execution_count": 17,
     "metadata": {},
     "output_type": "execute_result"
    }
   ],
   "source": [
    "_txtdict"
   ]
  },
  {
   "cell_type": "markdown",
   "id": "6f95a4c3-a026-4a99-8b69-530ab3a772a4",
   "metadata": {},
   "source": [
    ">Now sorting the wanted information. "
   ]
  },
  {
   "cell_type": "code",
   "execution_count": 18,
   "id": "ace26aae-a534-4973-8d3a-e570a6d8d29d",
   "metadata": {},
   "outputs": [],
   "source": [
    "_answ=_dict.get(\"word\")\n",
    "_def=_txtdict.get(\"text\")\n",
    "_pos=_txtdict.get(\"partOfSpeech\")\n",
    "\n",
    "_rtList=[]\n",
    "_rtList.append(_answ)\n",
    "_rtList.append(_def)\n",
    "_rtList.append(_pos)"
   ]
  },
  {
   "cell_type": "code",
   "execution_count": 19,
   "id": "c17f2e88-13fa-4332-bacc-ee13394c73fd",
   "metadata": {},
   "outputs": [
    {
     "data": {
      "text/plain": [
       "['recrudescent', 'Coming into existence or renewed vigor again.', 'adjective']"
      ]
     },
     "execution_count": 19,
     "metadata": {},
     "output_type": "execute_result"
    }
   ],
   "source": [
    "_rtList"
   ]
  },
  {
   "cell_type": "markdown",
   "id": "3c8aee71-a753-453f-8969-fe0f9fef3a7d",
   "metadata": {},
   "source": [
    "# Full Functions"
   ]
  },
  {
   "cell_type": "code",
   "execution_count": 24,
   "id": "16fa83e5-e825-4bbc-ad6b-2df3ce930f97",
   "metadata": {},
   "outputs": [],
   "source": [
    "def wordOfTheDay():\n",
    "    import json\n",
    "    from random_word import RandomWords\n",
    "\n",
    "    _today= dateFormater()\n",
    "    _r = RandomWords()\n",
    "    _wordStr=_r.word_of_the_day(date=_today)\n",
    "    _dict=json.loads(_wordStr)\n",
    "    _txtlst=_dict.get(\"definations\")\n",
    "\n",
    "    if len(_txtlst)<2:\n",
    "        _txtdict=_txtlst[0]\n",
    "    else:\n",
    "        _txtdict=_txtlst[1]\n",
    "    \n",
    "    \n",
    "\n",
    "    _answ=_dict.get(\"word\")\n",
    "    _def=_txtdict.get(\"text\")\n",
    "    _pos=_txtdict.get(\"partOfSpeech\")\n",
    "\n",
    "\n",
    "    _rtList=[]\n",
    "    _rtList.append(_answ)\n",
    "    _rtList.append(_def)\n",
    "    _rtList.append(_pos)\n",
    "    return _rtList"
   ]
  },
  {
   "cell_type": "markdown",
   "id": "8647c92c-8a9a-42cd-a80f-11e7883840b8",
   "metadata": {},
   "source": [
    ">test"
   ]
  },
  {
   "cell_type": "code",
   "execution_count": 21,
   "id": "3765532a-7ae6-4da2-b3a9-7da49cefa7c7",
   "metadata": {},
   "outputs": [
    {
     "name": "stdout",
     "output_type": "stream",
     "text": [
      "['recrudescent', 'Coming into existence or renewed vigor again.', 'adjective']\n"
     ]
    }
   ],
   "source": [
    "_wordList=wordOfTheDay()\n",
    "print(_wordList)"
   ]
  },
  {
   "cell_type": "code",
   "execution_count": 28,
   "id": "4a3e5104-9265-4971-b8b4-3678c19ea117",
   "metadata": {},
   "outputs": [],
   "source": [
    "def randoWord():\n",
    "    from random_word import RandomWords\n",
    "    _r = RandomWords()\n",
    "    _word=_r.get_random_word(hasDictionaryDef=\"true\",minLength=5,maxLength=20)\n",
    "    return _word\n"
   ]
  },
  {
   "cell_type": "markdown",
   "id": "ebf49b6a-1c38-4f9c-ae3a-55743cbb2b1e",
   "metadata": {},
   "source": [
    ">test"
   ]
  },
  {
   "cell_type": "code",
   "execution_count": 29,
   "id": "00d77fae-44ff-4e8f-b30f-81fcc40e7116",
   "metadata": {},
   "outputs": [
    {
     "name": "stdout",
     "output_type": "stream",
     "text": [
      "peacocky\n"
     ]
    }
   ],
   "source": [
    "_word=randoWord()\n",
    "print(_word)"
   ]
  }
 ],
 "metadata": {
  "kernelspec": {
   "display_name": "Python 3",
   "language": "python",
   "name": "python3"
  },
  "language_info": {
   "codemirror_mode": {
    "name": "ipython",
    "version": 3
   },
   "file_extension": ".py",
   "mimetype": "text/x-python",
   "name": "python",
   "nbconvert_exporter": "python",
   "pygments_lexer": "ipython3",
   "version": "3.8.8"
  }
 },
 "nbformat": 4,
 "nbformat_minor": 5
}
