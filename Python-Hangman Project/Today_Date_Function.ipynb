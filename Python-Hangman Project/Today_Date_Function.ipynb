{
 "cells": [
  {
   "cell_type": "markdown",
   "id": "6fc1d7b8-7a54-4c01-a624-ef06a7d3c9ba",
   "metadata": {},
   "source": [
    "# Todays Date Function "
   ]
  },
  {
   "cell_type": "code",
   "execution_count": 1,
   "id": "03e247bf-03bb-4af6-8736-08f97598e8ef",
   "metadata": {},
   "outputs": [],
   "source": [
    "def dateFormater():\n",
    "    from datetime import date\n",
    "  \n",
    "    _today= str(date.today())\n",
    "    return _today"
   ]
  },
  {
   "cell_type": "markdown",
   "id": "116561fe-d371-4ed9-a7d2-b5d8f51e87ab",
   "metadata": {},
   "source": [
    ">test"
   ]
  },
  {
   "cell_type": "code",
   "execution_count": 2,
   "id": "50ffed9f-3c4b-497c-8313-4c9b67726b92",
   "metadata": {},
   "outputs": [
    {
     "name": "stdout",
     "output_type": "stream",
     "text": [
      "2022-08-15\n"
     ]
    }
   ],
   "source": [
    "_today=dateFormater()\n",
    "print(_today)"
   ]
  }
 ],
 "metadata": {
  "kernelspec": {
   "display_name": "Python 3",
   "language": "python",
   "name": "python3"
  },
  "language_info": {
   "codemirror_mode": {
    "name": "ipython",
    "version": 3
   },
   "file_extension": ".py",
   "mimetype": "text/x-python",
   "name": "python",
   "nbconvert_exporter": "python",
   "pygments_lexer": "ipython3",
   "version": "3.8.8"
  }
 },
 "nbformat": 4,
 "nbformat_minor": 5
}
