{
 "cells": [
  {
   "cell_type": "markdown",
   "id": "acc8fb3b-6fd2-4258-abaf-30a7fac34451",
   "metadata": {},
   "source": [
    "# XML Parsing for DeviceWise"
   ]
  },
  {
   "cell_type": "code",
   "execution_count": 2,
   "id": "a12bd012-7b79-4482-95c4-71ea03d0e5a9",
   "metadata": {},
   "outputs": [],
   "source": [
    "# -*- coding: utf-8 -*-\n",
    "\"\"\"\n",
    "Created on Tue Aug 16 06:46:40 2022\n",
    "\n",
    "@author: vac59186\n",
    "\"\"\"\n",
    "import os\n",
    "import csv\n",
    "import xml.etree.ElementTree as ET\n",
    "from tkinter import Tk     # from tkinter import Tk for Python 3.x\n",
    "from tkinter.filedialog import askopenfilename\n",
    "      \n",
    "def dateFormater():\n",
    "    from datetime import date \n",
    "    _today= str(date.today())\n",
    "    return _today\n",
    "\n",
    "def parseXML(xmlFile):\n",
    "       \n",
    "    tree=ET.parse(xmlFile)    \n",
    "    root=tree.getroot()\n",
    "    _today=dateFormater()\n",
    "    _user=os.getlogin()\n",
    "    saveFile='C:/users/'+_user+'/Documents/DW_IP_OUTPUT_'+_today+'.csv'\n",
    "    with open(saveFile, 'w', newline='') as csvfile:\n",
    "        fieldnames = ['Device_Name', 'IP_Address']\n",
    "        writer = csv.DictWriter(csvfile, fieldnames=fieldnames)\n",
    "        writer.writeheader()\n",
    "               \n",
    "        for _exportcontent in root:                         \n",
    "            for _DeviceDefinition in _exportcontent.iter('DeviceDefinition'):                                                                                 \n",
    "                for _property in _DeviceDefinition.iter(\"Property\"):\n",
    "                \n",
    "                    deviceName= _exportcontent.get(\"name\")\n",
    "                    name= _property.get(\"name\")\n",
    "                    value=_property.get(\"value\")\n",
    "                \n",
    "                    if name=='ip_address':\n",
    "                        temp={'Device_Name':deviceName,'IP_Address':value}\n",
    "                        writer.writerow(temp)\n",
    "        os.startfile(saveFile) \n",
    "              \n",
    "def main():  \n",
    "    Tk().withdraw() # we don't want a full GUI, so keep the root window from appearing\n",
    "    filepath = askopenfilename()\n",
    "    parseXML(filepath)\n",
    "    \n",
    "                          \n",
    "main()\n",
    "\n"
   ]
  },
  {
   "cell_type": "code",
   "execution_count": null,
   "id": "58adf713-8b34-4afa-a895-b22f0889b25b",
   "metadata": {},
   "outputs": [],
   "source": []
  }
 ],
 "metadata": {
  "kernelspec": {
   "display_name": "Python 3",
   "language": "python",
   "name": "python3"
  },
  "language_info": {
   "codemirror_mode": {
    "name": "ipython",
    "version": 3
   },
   "file_extension": ".py",
   "mimetype": "text/x-python",
   "name": "python",
   "nbconvert_exporter": "python",
   "pygments_lexer": "ipython3",
   "version": "3.8.8"
  }
 },
 "nbformat": 4,
 "nbformat_minor": 5
}
